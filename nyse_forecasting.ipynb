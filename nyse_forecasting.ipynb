{
 "cells": [
  {
   "cell_type": "code",
   "execution_count": 1,
   "metadata": {},
   "outputs": [
    {
     "name": "stderr",
     "output_type": "stream",
     "text": [
      "Using TensorFlow backend.\n"
     ]
    }
   ],
   "source": [
    "import pandas as pd\n",
    "from statsmodels.tsa.seasonal import seasonal_decompose\n",
    "from pmdarima.arima import auto_arima\n",
    "from sklearn.metrics import mean_squared_error\n",
    "from sklearn.preprocessing import MinMaxScaler\n",
    "import math\n",
    "import tensorflow as tf\n",
    "from keras.models import Sequential\n",
    "from keras.layers import Dense, LSTM"
   ]
  },
  {
   "cell_type": "code",
   "execution_count": 2,
   "metadata": {},
   "outputs": [],
   "source": [
    "nyse_data = pd.read_csv(\"data/all_stocks_2006-01-01_to_2018-01-01.csv\")"
   ]
  },
  {
   "cell_type": "code",
   "execution_count": 3,
   "metadata": {},
   "outputs": [
    {
     "name": "stdout",
     "output_type": "stream",
     "text": [
      "<class 'pandas.core.frame.DataFrame'>\n",
      "RangeIndex: 93612 entries, 0 to 93611\n",
      "Data columns (total 7 columns):\n",
      "Date      93612 non-null object\n",
      "Open      93587 non-null float64\n",
      "High      93602 non-null float64\n",
      "Low       93592 non-null float64\n",
      "Close     93612 non-null float64\n",
      "Volume    93612 non-null int64\n",
      "Name      93612 non-null object\n",
      "dtypes: float64(4), int64(1), object(2)\n",
      "memory usage: 5.0+ MB\n",
      "None\n"
     ]
    },
    {
     "data": {
      "text/html": [
       "<div>\n",
       "<style scoped>\n",
       "    .dataframe tbody tr th:only-of-type {\n",
       "        vertical-align: middle;\n",
       "    }\n",
       "\n",
       "    .dataframe tbody tr th {\n",
       "        vertical-align: top;\n",
       "    }\n",
       "\n",
       "    .dataframe thead th {\n",
       "        text-align: right;\n",
       "    }\n",
       "</style>\n",
       "<table border=\"1\" class=\"dataframe\">\n",
       "  <thead>\n",
       "    <tr style=\"text-align: right;\">\n",
       "      <th></th>\n",
       "      <th>Date</th>\n",
       "      <th>Open</th>\n",
       "      <th>High</th>\n",
       "      <th>Low</th>\n",
       "      <th>Close</th>\n",
       "      <th>Volume</th>\n",
       "      <th>Name</th>\n",
       "    </tr>\n",
       "  </thead>\n",
       "  <tbody>\n",
       "    <tr>\n",
       "      <th>0</th>\n",
       "      <td>2006-01-03</td>\n",
       "      <td>77.76</td>\n",
       "      <td>79.35</td>\n",
       "      <td>77.24</td>\n",
       "      <td>79.11</td>\n",
       "      <td>3117200</td>\n",
       "      <td>MMM</td>\n",
       "    </tr>\n",
       "    <tr>\n",
       "      <th>1</th>\n",
       "      <td>2006-01-04</td>\n",
       "      <td>79.49</td>\n",
       "      <td>79.49</td>\n",
       "      <td>78.25</td>\n",
       "      <td>78.71</td>\n",
       "      <td>2558000</td>\n",
       "      <td>MMM</td>\n",
       "    </tr>\n",
       "    <tr>\n",
       "      <th>2</th>\n",
       "      <td>2006-01-05</td>\n",
       "      <td>78.41</td>\n",
       "      <td>78.65</td>\n",
       "      <td>77.56</td>\n",
       "      <td>77.99</td>\n",
       "      <td>2529500</td>\n",
       "      <td>MMM</td>\n",
       "    </tr>\n",
       "    <tr>\n",
       "      <th>3</th>\n",
       "      <td>2006-01-06</td>\n",
       "      <td>78.64</td>\n",
       "      <td>78.90</td>\n",
       "      <td>77.64</td>\n",
       "      <td>78.63</td>\n",
       "      <td>2479500</td>\n",
       "      <td>MMM</td>\n",
       "    </tr>\n",
       "    <tr>\n",
       "      <th>4</th>\n",
       "      <td>2006-01-09</td>\n",
       "      <td>78.50</td>\n",
       "      <td>79.83</td>\n",
       "      <td>78.46</td>\n",
       "      <td>79.02</td>\n",
       "      <td>1845600</td>\n",
       "      <td>MMM</td>\n",
       "    </tr>\n",
       "  </tbody>\n",
       "</table>\n",
       "</div>"
      ],
      "text/plain": [
       "         Date   Open   High    Low  Close   Volume Name\n",
       "0  2006-01-03  77.76  79.35  77.24  79.11  3117200  MMM\n",
       "1  2006-01-04  79.49  79.49  78.25  78.71  2558000  MMM\n",
       "2  2006-01-05  78.41  78.65  77.56  77.99  2529500  MMM\n",
       "3  2006-01-06  78.64  78.90  77.64  78.63  2479500  MMM\n",
       "4  2006-01-09  78.50  79.83  78.46  79.02  1845600  MMM"
      ]
     },
     "execution_count": 3,
     "metadata": {},
     "output_type": "execute_result"
    }
   ],
   "source": [
    "print(nyse_data.info())\n",
    "nyse_data.head()"
   ]
  },
  {
   "cell_type": "code",
   "execution_count": 4,
   "metadata": {},
   "outputs": [],
   "source": [
    "# as a test case, let's take 3M as our example\n",
    "mmm = nyse_data.loc[nyse_data.Name == \"MMM\"]"
   ]
  },
  {
   "cell_type": "code",
   "execution_count": 5,
   "metadata": {},
   "outputs": [
    {
     "data": {
      "text/plain": [
       "<matplotlib.axes._subplots.AxesSubplot at 0x25be2916668>"
      ]
     },
     "execution_count": 5,
     "metadata": {},
     "output_type": "execute_result"
    },
    {
     "data": {
      "image/png": "[encoded data removed]",
      "text/plain": [
       "<Figure size 432x288 with 1 Axes>"
      ]
     },
     "metadata": {
      "needs_background": "light"
     },
     "output_type": "display_data"
    }
   ],
   "source": [
    "mmm = mmm.sort_values(by='Date')\n",
    "\n",
    "mmm.plot(x=\"Date\", y=\"Close\")"
   ]
  },
  {
   "cell_type": "code",
   "execution_count": 6,
   "metadata": {},
   "outputs": [],
   "source": [
    "mmm.index = pd.to_datetime(mmm.Date)"
   ]
  },
  {
   "cell_type": "markdown",
   "metadata": {},
   "source": [
    "There is definitely a trend with some random noise. Let's see if we can predict the time series with a simle arima model and and then a RNN"
   ]
  },
  {
   "cell_type": "code",
   "execution_count": 7,
   "metadata": {},
   "outputs": [],
   "source": [
    "# lets predict one month out\n",
    "num_days = 30\n",
    "train = mmm[:-num_days]\n",
    "test = mmm[-num_days:]"
   ]
  },
  {
   "cell_type": "code",
   "execution_count": 8,
   "metadata": {},
   "outputs": [
    {
     "data": {
      "image/png": "[encoded data removed]",
      "text/plain": [
       "<Figure size 432x288 with 4 Axes>"
      ]
     },
     "execution_count": 8,
     "metadata": {},
     "output_type": "execute_result"
    },
    {
     "data": {
      "image/png": "[encoded data removed]",
      "text/plain": [
       "<Figure size 432x288 with 4 Axes>"
      ]
     },
     "metadata": {
      "needs_background": "light"
     },
     "output_type": "display_data"
    }
   ],
   "source": [
    "result = seasonal_decompose(train.Close, model='multiplicative', freq=1)\n",
    "result.plot()"
   ]
  },
  {
   "cell_type": "code",
   "execution_count": 9,
   "metadata": {},
   "outputs": [
    {
     "name": "stdout",
     "output_type": "stream",
     "text": [
      "Fit ARIMA: order=(1, 1, 1) seasonal_order=(0, 0, 0, 1); AIC=10052.801, BIC=10076.811, Fit time=0.987 seconds\n",
      "Fit ARIMA: order=(0, 1, 0) seasonal_order=(0, 0, 0, 1); AIC=10054.631, BIC=10066.637, Fit time=0.112 seconds\n",
      "Fit ARIMA: order=(1, 1, 0) seasonal_order=(0, 0, 0, 1); AIC=10050.821, BIC=10068.829, Fit time=0.292 seconds\n",
      "Fit ARIMA: order=(0, 1, 1) seasonal_order=(0, 0, 0, 1); AIC=10050.886, BIC=10068.894, Fit time=0.349 seconds\n",
      "Fit ARIMA: order=(2, 1, 0) seasonal_order=(0, 0, 0, 1); AIC=10052.779, BIC=10076.790, Fit time=0.427 seconds\n",
      "Fit ARIMA: order=(2, 1, 1) seasonal_order=(0, 0, 0, 1); AIC=nan, BIC=nan, Fit time=nan seconds\n",
      "Total fit time: 2.170 seconds\n"
     ]
    }
   ],
   "source": [
    "# fit a simple arima model on the training set\n",
    "stepwise_fit = auto_arima(train.Close.values, start_p=1, start_q=1,\n",
    "                             max_p=3, max_q=3, m=1,\n",
    "                             start_P=0, seasonal=True,\n",
    "                             d=1, D=1, trace=True,\n",
    "                             error_action='ignore',  # don't want to know if an order does not work\n",
    "                             suppress_warnings=True,  # don't want convergence warnings\n",
    "                             stepwise=True)  # set to stepwise"
   ]
  },
  {
   "cell_type": "code",
   "execution_count": 14,
   "metadata": {},
   "outputs": [
    {
     "name": "stdout",
     "output_type": "stream",
     "text": [
      "ARIMA model order: (1, 1, 0)\n"
     ]
    }
   ],
   "source": [
    "print(\"ARIMA model order: {}\".format(stepwise_fit.order))"
   ]
  },
  {
   "cell_type": "code",
   "execution_count": 15,
   "metadata": {},
   "outputs": [
    {
     "data": {
      "text/plain": [
       "'ARIMA RMSE: 8.7048559213332'"
      ]
     },
     "execution_count": 15,
     "metadata": {},
     "output_type": "execute_result"
    }
   ],
   "source": [
    "arima_preds = stepwise_fit.predict(n_periods=len(test))\n",
    "\n",
    "# evaluate the accuracy\n",
    "\"ARIMA RMSE: {}\".format(math.sqrt(mean_squared_error(test.Close.values, arima_preds)))"
   ]
  },
  {
   "cell_type": "markdown",
   "metadata": {},
   "source": [
    "## Fit a RNN\n",
    "\n",
    "loosely based on: https://machinelearningmastery.com/time-series-forecasting-long-short-term-memory-network-python/"
   ]
  },
  {
   "cell_type": "code",
   "execution_count": 16,
   "metadata": {},
   "outputs": [],
   "source": [
    "# frame a sequence as a supervised learning problem\n",
    "def timeseries_to_supervised(data, lag=1):\n",
    "    df = pd.DataFrame(data)\n",
    "    \n",
    "    base_name = df.columns[0]\n",
    "    col_names = [base_name + '_lag_' + str(i) for i in range(1, lag + 1)]\n",
    "    \n",
    "    columns = [df.shift(i) for i in range(1, lag+1)]\n",
    "    columns.insert(0, df)\n",
    "    df = pd.concat(columns, axis=1)\n",
    "    \n",
    "    # add columns names\n",
    "    df.columns = [base_name] + col_names\n",
    "    df.dropna(0, inplace=True)\n",
    "    return df.values"
   ]
  },
  {
   "cell_type": "code",
   "execution_count": 17,
   "metadata": {},
   "outputs": [
    {
     "data": {
      "text/plain": [
       "array([[77.7 , 78.37, 78.53, 79.02, 78.63, 77.99, 78.71, 79.11],\n",
       "       [77.5 , 77.7 , 78.37, 78.53, 79.02, 78.63, 77.99, 78.71],\n",
       "       [77.09, 77.5 , 77.7 , 78.37, 78.53, 79.02, 78.63, 77.99],\n",
       "       [76.99, 77.09, 77.5 , 77.7 , 78.37, 78.53, 79.02, 78.63],\n",
       "       [76.91, 76.99, 77.09, 77.5 , 77.7 , 78.37, 78.53, 79.02]])"
      ]
     },
     "execution_count": 17,
     "metadata": {},
     "output_type": "execute_result"
    }
   ],
   "source": [
    "# use the previous 7 days as predictors\n",
    "shifted = timeseries_to_supervised(mmm.Close, lag=7)\n",
    "shifted[:5]"
   ]
  },
  {
   "cell_type": "code",
   "execution_count": 18,
   "metadata": {},
   "outputs": [],
   "source": [
    "x_rnn_train, y_rnn_train = shifted[:(-num_days), 1:], shifted[:(-num_days), 0].reshape((-1, 1))\n",
    "x_rnn_test, y_rnn_test = shifted[-num_days:, 1:], shifted[-num_days:, 0].reshape((-1, 1))"
   ]
  },
  {
   "cell_type": "code",
   "execution_count": 19,
   "metadata": {},
   "outputs": [
    {
     "data": {
      "text/plain": [
       "((30, 7), (2983, 7))"
      ]
     },
     "execution_count": 19,
     "metadata": {},
     "output_type": "execute_result"
    }
   ],
   "source": [
    "x_rnn_test.shape, x_rnn_train.shape"
   ]
  },
  {
   "cell_type": "markdown",
   "metadata": {},
   "source": [
    "Im going to try this before differencing to see if the network can pick up the trend "
   ]
  },
  {
   "cell_type": "code",
   "execution_count": 20,
   "metadata": {},
   "outputs": [],
   "source": [
    "x_scaler = MinMaxScaler()\n",
    "y_scaler = MinMaxScaler()\n",
    "\n",
    "x_rnn_train = x_scaler.fit_transform(x_rnn_train)\n",
    "y_rnn_train = y_scaler.fit_transform(y_rnn_train)\n",
    "\n",
    "x_rnn_test = x_scaler.transform(x_rnn_test)\n",
    "y_rnn_test = y_scaler.transform(y_rnn_test)"
   ]
  },
  {
   "cell_type": "markdown",
   "metadata": {},
   "source": [
    "The LSTM layer expects input to be in a matrix with the dimensions: [samples, time steps, features].\n",
    "\n",
    "* __Samples__: These are independent observations from the domain, typically rows of data.\n",
    "* __Time steps__: These are separate time steps of a given variable for a given observation.\n",
    "* __Features__: These are separate measures observed at the time of observation."
   ]
  },
  {
   "cell_type": "code",
   "execution_count": 21,
   "metadata": {},
   "outputs": [
    {
     "data": {
      "text/plain": [
       "(2983, 1, 7)"
      ]
     },
     "execution_count": 21,
     "metadata": {},
     "output_type": "execute_result"
    }
   ],
   "source": [
    "X = x_rnn_train.reshape(x_rnn_train.shape[0], 1, x_rnn_train.shape[1])\n",
    "x_rnn_test = x_rnn_test.reshape(x_rnn_test.shape[0], 1, x_rnn_test.shape[1])\n",
    "X.shape"
   ]
  },
  {
   "cell_type": "markdown",
   "metadata": {},
   "source": [
    "* The shape of the input data must be specified in the LSTM layer using the “batch_input_shape” argument as a tuple that specifies the expected number of observations to read each batch, the number of time steps, and the number of features.\n",
    "* The number of obs in each batch can be ommited if the batch size is specified when fitting the model.\n",
    "\n",
    "__important__: It is possible to access the hidden state output for each input time step. This can be done by setting the return_sequences attribute to True when defining the LSTM layer. This is necessary if you'd like to stack LSTM layers (a 3 dimensional output is needed to feed into the next LSTM layer).\n",
    "\n",
    "A good reference: https://machinelearningmastery.com/return-sequences-and-return-states-for-lstms-in-keras/"
   ]
  },
  {
   "cell_type": "code",
   "execution_count": 22,
   "metadata": {},
   "outputs": [
    {
     "name": "stdout",
     "output_type": "stream",
     "text": [
      "WARNING:tensorflow:From C:\\Users\\u777304\\AppData\\Local\\Continuum\\anaconda3\\lib\\site-packages\\tensorflow\\python\\framework\\op_def_library.py:263: colocate_with (from tensorflow.python.framework.ops) is deprecated and will be removed in a future version.\n",
      "Instructions for updating:\n",
      "Colocations handled automatically by placer.\n",
      "_________________________________________________________________\n",
      "Layer (type)                 Output Shape              Param #   \n",
      "=================================================================\n",
      "lstm_1 (LSTM)                (None, 1, 64)             18432     \n",
      "_________________________________________________________________\n",
      "lstm_2 (LSTM)                (None, 1, 128)            98816     \n",
      "_________________________________________________________________\n",
      "lstm_3 (LSTM)                (None, 256)               394240    \n",
      "_________________________________________________________________\n",
      "dense_1 (Dense)              (None, 1)                 257       \n",
      "=================================================================\n",
      "Total params: 511,745\n",
      "Trainable params: 511,745\n",
      "Non-trainable params: 0\n",
      "_________________________________________________________________\n"
     ]
    }
   ],
   "source": [
    "model = Sequential()\n",
    "model.add(LSTM(units=64, input_shape=(X.shape[1], X.shape[2]), return_sequences=True))\n",
    "model.add(LSTM(units=128, return_sequences=True))\n",
    "model.add(LSTM(units=256))\n",
    "model.add(Dense(units=1))\n",
    "model.compile(loss='mean_squared_error', optimizer='adam')\n",
    "model.summary()"
   ]
  },
  {
   "cell_type": "code",
   "execution_count": 23,
   "metadata": {},
   "outputs": [
    {
     "name": "stdout",
     "output_type": "stream",
     "text": [
      "WARNING:tensorflow:From C:\\Users\\u777304\\AppData\\Local\\Continuum\\anaconda3\\lib\\site-packages\\tensorflow\\python\\ops\\math_ops.py:3066: to_int32 (from tensorflow.python.ops.math_ops) is deprecated and will be removed in a future version.\n",
      "Instructions for updating:\n",
      "Use tf.cast instead.\n",
      "Epoch 1/15\n",
      "2983/2983 [==============================] - 3s 925us/step - loss: 0.0252\n",
      "Epoch 2/15\n",
      "2983/2983 [==============================] - 1s 330us/step - loss: 2.5641e-04\n",
      "Epoch 3/15\n",
      "2983/2983 [==============================] - 1s 336us/step - loss: 1.8330e-04\n",
      "Epoch 4/15\n",
      "2983/2983 [==============================] - 1s 328us/step - loss: 1.4845e-04\n",
      "Epoch 5/15\n",
      "2983/2983 [==============================] - 1s 332us/step - loss: 1.2748e-04\n",
      "Epoch 6/15\n",
      "2983/2983 [==============================] - 1s 332us/step - loss: 1.2448e-04\n",
      "Epoch 7/15\n",
      "2983/2983 [==============================] - 1s 325us/step - loss: 1.2534e-04\n",
      "Epoch 8/15\n",
      "2983/2983 [==============================] - 1s 327us/step - loss: 1.2088e-04\n",
      "Epoch 9/15\n",
      "2983/2983 [==============================] - 1s 325us/step - loss: 1.2044e-04\n",
      "Epoch 10/15\n",
      "2983/2983 [==============================] - 1s 324us/step - loss: 1.1308e-04\n",
      "Epoch 11/15\n",
      "2983/2983 [==============================] - 1s 339us/step - loss: 1.1180e-04\n",
      "Epoch 12/15\n",
      "2983/2983 [==============================] - 1s 330us/step - loss: 1.2115e-04\n",
      "Epoch 13/15\n",
      "2983/2983 [==============================] - 1s 338us/step - loss: 1.0786e-04\n",
      "Epoch 14/15\n",
      "2983/2983 [==============================] - 1s 347us/step - loss: 1.1234e-04\n",
      "Epoch 15/15\n",
      "2983/2983 [==============================] - 1s 327us/step - loss: 1.0720e-04\n"
     ]
    },
    {
     "data": {
      "text/plain": [
       "<keras.callbacks.History at 0x25be3ac1048>"
      ]
     },
     "execution_count": 23,
     "metadata": {},
     "output_type": "execute_result"
    }
   ],
   "source": [
    "model.fit(x=X, y=y_rnn_train,\n",
    "         epochs = 15, batch_size=30)"
   ]
  },
  {
   "cell_type": "code",
   "execution_count": 24,
   "metadata": {},
   "outputs": [],
   "source": [
    "preds = model.predict(x_rnn_test)\n",
    "\n",
    "# inverse transform the scaling\n",
    "preds = y_scaler.inverse_transform(preds)"
   ]
  },
  {
   "cell_type": "code",
   "execution_count": 26,
   "metadata": {},
   "outputs": [
    {
     "name": "stdout",
     "output_type": "stream",
     "text": [
      "RNN RMSE: 3.1771918494628864\n",
      "ARIMA RMSE: 8.7048559213332\n"
     ]
    }
   ],
   "source": [
    "# evaluate the accuracy\n",
    "print(\"RNN RMSE: {}\".format(math.sqrt(mean_squared_error(test.Close.values, preds.flatten()))))\n",
    "print(\"ARIMA RMSE: {}\".format(math.sqrt(mean_squared_error(test.Close.values, arima_preds))))"
   ]
  },
  {
   "cell_type": "markdown",
   "metadata": {},
   "source": [
    "## Conclusion\n",
    "Although this was done very naively, being 5 dollars closer on average is a fairly significant difference (especially if we were a trading firm!)"
   ]
  }
 ],
 "metadata": {
  "kernelspec": {
   "display_name": "Python 3",
   "language": "python",
   "name": "python3"
  },
  "language_info": {
   "codemirror_mode": {
    "name": "ipython",
    "version": 3
   },
   "file_extension": ".py",
   "mimetype": "text/x-python",
   "name": "python",
   "nbconvert_exporter": "python",
   "pygments_lexer": "ipython3",
   "version": "3.7.3"
  }
 },
 "nbformat": 4,
 "nbformat_minor": 2
}
